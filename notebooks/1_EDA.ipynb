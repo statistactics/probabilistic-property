{
 "cells": [
  {
   "cell_type": "code",
   "execution_count": 1,
   "metadata": {},
   "outputs": [],
   "source": [
    "import numpy as np\n",
    "import pandas as pd"
   ]
  },
  {
   "cell_type": "code",
   "execution_count": 2,
   "metadata": {},
   "outputs": [],
   "source": [
    "\n",
    "import matplotlib.pyplot as plt\n",
    "import requests\n",
    "import seaborn as sns\n",
    "import sklearn\n",
    "import sktime\n",
    "import orbit"
   ]
  },
  {
   "cell_type": "markdown",
   "metadata": {},
   "source": [
    "# Read in data"
   ]
  },
  {
   "cell_type": "code",
   "execution_count": 3,
   "metadata": {},
   "outputs": [
    {
     "name": "stdout",
     "output_type": "stream",
     "text": [
      "{'code': 0, 'data': {'collectionMetadata': {'collectionId': '189', 'createdAt': '2015-09-22T15:05:30+08:00', 'name': 'Resale Flat Prices', 'description': 'Resale transacted prices. \\r\\nPrior to March 2012, data is based on date of approval for the resale transactions.  \\r\\nFor March 2012 onwards, the data is based on date of registration for the resale transactions.', 'lastUpdatedAt': '2025-04-03T02:09:19+08:00', 'coverageStart': '1990-01-01T08:00:00+08:00', 'coverageEnd': '2024-04-08T00:00:00+08:00', 'frequency': 'monthly', 'sources': ['Housing & Development Board'], 'managedBy': 'Housing & Development Board', 'childDatasets': ['d_8b84c4ee58e3cfc0ece0d773c8ca6abc', 'd_43f493c6c50d54243cc1eab0df142d6a', 'd_2d5ff9ea31397b66239f245f57751537', 'd_ebc5ab87086db484f88045b47411ebc5', 'd_ea9ed51da2787afaf8e51f827c304208']}}, 'errorMsg': ''}\n"
     ]
    }
   ],
   "source": [
    "collection_id = 189          \n",
    "url = \"https://api-production.data.gov.sg/v2/public/api/collections/{}/metadata\".format(collection_id)\n",
    "        \n",
    "response = requests.get(url)\n",
    "print(response.json())\n",
    "\n"
   ]
  },
  {
   "cell_type": "code",
   "execution_count": 4,
   "metadata": {},
   "outputs": [
    {
     "data": {
      "text/plain": [
       "{'code': 0,\n",
       " 'data': {'collectionMetadata': {'collectionId': '189',\n",
       "   'createdAt': '2015-09-22T15:05:30+08:00',\n",
       "   'name': 'Resale Flat Prices',\n",
       "   'description': 'Resale transacted prices. \\r\\nPrior to March 2012, data is based on date of approval for the resale transactions.  \\r\\nFor March 2012 onwards, the data is based on date of registration for the resale transactions.',\n",
       "   'lastUpdatedAt': '2025-04-03T02:09:19+08:00',\n",
       "   'coverageStart': '1990-01-01T08:00:00+08:00',\n",
       "   'coverageEnd': '2024-04-08T00:00:00+08:00',\n",
       "   'frequency': 'monthly',\n",
       "   'sources': ['Housing & Development Board'],\n",
       "   'managedBy': 'Housing & Development Board',\n",
       "   'childDatasets': ['d_8b84c4ee58e3cfc0ece0d773c8ca6abc',\n",
       "    'd_43f493c6c50d54243cc1eab0df142d6a',\n",
       "    'd_2d5ff9ea31397b66239f245f57751537',\n",
       "    'd_ebc5ab87086db484f88045b47411ebc5',\n",
       "    'd_ea9ed51da2787afaf8e51f827c304208']}},\n",
       " 'errorMsg': ''}"
      ]
     },
     "execution_count": 4,
     "metadata": {},
     "output_type": "execute_result"
    }
   ],
   "source": [
    "response.json()"
   ]
  },
  {
   "cell_type": "code",
   "execution_count": 5,
   "metadata": {},
   "outputs": [
    {
     "data": {
      "text/plain": [
       "['d_8b84c4ee58e3cfc0ece0d773c8ca6abc',\n",
       " 'd_43f493c6c50d54243cc1eab0df142d6a',\n",
       " 'd_2d5ff9ea31397b66239f245f57751537',\n",
       " 'd_ebc5ab87086db484f88045b47411ebc5',\n",
       " 'd_ea9ed51da2787afaf8e51f827c304208']"
      ]
     },
     "execution_count": 5,
     "metadata": {},
     "output_type": "execute_result"
    }
   ],
   "source": [
    "hdb_dataset_ids = response.json()[\"data\"][\"collectionMetadata\"][\"childDatasets\"]\n",
    "hdb_dataset_ids"
   ]
  },
  {
   "cell_type": "code",
   "execution_count": 6,
   "metadata": {},
   "outputs": [],
   "source": [
    "output = []\n",
    "for id in hdb_dataset_ids:\n",
    "    id"
   ]
  },
  {
   "cell_type": "code",
   "execution_count": null,
   "metadata": {},
   "outputs": [],
   "source": []
  },
  {
   "cell_type": "code",
   "execution_count": null,
   "metadata": {},
   "outputs": [],
   "source": []
  }
 ],
 "metadata": {
  "kernelspec": {
   "display_name": ".venv",
   "language": "python",
   "name": "python3"
  },
  "language_info": {
   "codemirror_mode": {
    "name": "ipython",
    "version": 3
   },
   "file_extension": ".py",
   "mimetype": "text/x-python",
   "name": "python",
   "nbconvert_exporter": "python",
   "pygments_lexer": "ipython3",
   "version": "3.12.9"
  }
 },
 "nbformat": 4,
 "nbformat_minor": 2
}
